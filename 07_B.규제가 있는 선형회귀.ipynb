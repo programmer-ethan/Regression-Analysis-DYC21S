{
 "cells": [
  {
   "cell_type": "markdown",
   "metadata": {},
   "source": [
    "# 규제가 있는 선형회귀 - 릿지, 라쏘, 엘라스틱넷 회귀"
   ]
  },
  {
   "cell_type": "markdown",
   "metadata": {},
   "source": [
    "#### 규제가 있는 모델 구축 - 당뇨병 데이터세트\n",
    "#### 1. 데이터 전처리\n",
    "#### 2. Ridge, Lasso, Elasticnet regression 구축: 회귀 계수 확인, 하이퍼 파라미터 탐색\n",
    "#### 3. 교차 검증으로 최적의 하이퍼파라미터 탐색: LassoCV()"
   ]
  },
  {
   "cell_type": "code",
   "execution_count": 1,
   "metadata": {},
   "outputs": [],
   "source": [
    "# 관련 라이브러리 및 모듈 Import\n",
    "import pandas as pd"
   ]
  },
  {
   "cell_type": "code",
   "execution_count": 2,
   "metadata": {},
   "outputs": [],
   "source": [
    "import warnings\n",
    "warnings.filterwarnings(action='ignore')"
   ]
  },
  {
   "cell_type": "markdown",
   "metadata": {},
   "source": [
    "# 0. 데이터 수집, 탐색, 준비"
   ]
  },
  {
   "cell_type": "code",
   "execution_count": 3,
   "metadata": {},
   "outputs": [],
   "source": [
    "import numpy as np\n",
    "from sklearn.linear_model import LinearRegression\n",
    "from sklearn.linear_model import Ridge\n",
    "from sklearn.linear_model import Lasso\n",
    "from sklearn.linear_model import ElasticNet\n",
    "from sklearn.linear_model import LassoCV\n",
    "from sklearn.linear_model import RidgeCV\n",
    "from sklearn.metrics import mean_squared_error, mean_absolute_error, r2_score\n",
    "\n",
    "from sklearn.datasets import load_diabetes\n",
    "import matplotlib.pyplot as plt\n",
    "\n",
    "diab = load_diabetes()\n"
   ]
  },
  {
   "cell_type": "markdown",
   "metadata": {},
   "source": [
    "####  데이터셋에 대한 설명 및 정보 확인"
   ]
  },
  {
   "cell_type": "code",
   "execution_count": 4,
   "metadata": {},
   "outputs": [],
   "source": [
    "# 데이터셋 정보확인"
   ]
  },
  {
   "cell_type": "code",
   "execution_count": 5,
   "metadata": {},
   "outputs": [
    {
     "name": "stdout",
     "output_type": "stream",
     "text": [
      ".. _diabetes_dataset:\n",
      "\n",
      "Diabetes dataset\n",
      "----------------\n",
      "\n",
      "Ten baseline variables, age, sex, body mass index, average blood\n",
      "pressure, and six blood serum measurements were obtained for each of n =\n",
      "442 diabetes patients, as well as the response of interest, a\n",
      "quantitative measure of disease progression one year after baseline.\n",
      "\n",
      "**Data Set Characteristics:**\n",
      "\n",
      "  :Number of Instances: 442\n",
      "\n",
      "  :Number of Attributes: First 10 columns are numeric predictive values\n",
      "\n",
      "  :Target: Column 11 is a quantitative measure of disease progression one year after baseline\n",
      "\n",
      "  :Attribute Information:\n",
      "      - age     age in years\n",
      "      - sex\n",
      "      - bmi     body mass index\n",
      "      - bp      average blood pressure\n",
      "      - s1      tc, total serum cholesterol\n",
      "      - s2      ldl, low-density lipoproteins\n",
      "      - s3      hdl, high-density lipoproteins\n",
      "      - s4      tch, total cholesterol / HDL\n",
      "      - s5      ltg, possibly log of serum triglycerides level\n",
      "      - s6      glu, blood sugar level\n",
      "\n",
      "Note: Each of these 10 feature variables have been mean centered and scaled by the standard deviation times `n_samples` (i.e. the sum of squares of each column totals 1).\n",
      "\n",
      "Source URL:\n",
      "https://www4.stat.ncsu.edu/~boos/var.select/diabetes.html\n",
      "\n",
      "For more information see:\n",
      "Bradley Efron, Trevor Hastie, Iain Johnstone and Robert Tibshirani (2004) \"Least Angle Regression,\" Annals of Statistics (with discussion), 407-499.\n",
      "(https://web.stanford.edu/~hastie/Papers/LARS/LeastAngle_2002.pdf)\n"
     ]
    }
   ],
   "source": [
    "print(diab.DESCR) #이미 스케일링 되어 있음을 확인할 것"
   ]
  },
  {
   "cell_type": "code",
   "execution_count": 6,
   "metadata": {},
   "outputs": [
    {
     "data": {
      "text/plain": [
       "['age', 'sex', 'bmi', 'bp', 's1', 's2', 's3', 's4', 's5', 's6']"
      ]
     },
     "execution_count": 6,
     "metadata": {},
     "output_type": "execute_result"
    }
   ],
   "source": [
    "diab.feature_names"
   ]
  },
  {
   "cell_type": "code",
   "execution_count": 7,
   "metadata": {
    "collapsed": true
   },
   "outputs": [
    {
     "data": {
      "text/plain": [
       "array([151.,  75., 141., 206., 135.,  97., 138.,  63., 110., 310., 101.,\n",
       "        69., 179., 185., 118., 171., 166., 144.,  97., 168.,  68.,  49.,\n",
       "        68., 245., 184., 202., 137.,  85., 131., 283., 129.,  59., 341.,\n",
       "        87.,  65., 102., 265., 276., 252.,  90., 100.,  55.,  61.,  92.,\n",
       "       259.,  53., 190., 142.,  75., 142., 155., 225.,  59., 104., 182.,\n",
       "       128.,  52.,  37., 170., 170.,  61., 144.,  52., 128.,  71., 163.,\n",
       "       150.,  97., 160., 178.,  48., 270., 202., 111.,  85.,  42., 170.,\n",
       "       200., 252., 113., 143.,  51.,  52., 210.,  65., 141.,  55., 134.,\n",
       "        42., 111.,  98., 164.,  48.,  96.,  90., 162., 150., 279.,  92.,\n",
       "        83., 128., 102., 302., 198.,  95.,  53., 134., 144., 232.,  81.,\n",
       "       104.,  59., 246., 297., 258., 229., 275., 281., 179., 200., 200.,\n",
       "       173., 180.,  84., 121., 161.,  99., 109., 115., 268., 274., 158.,\n",
       "       107.,  83., 103., 272.,  85., 280., 336., 281., 118., 317., 235.,\n",
       "        60., 174., 259., 178., 128.,  96., 126., 288.,  88., 292.,  71.,\n",
       "       197., 186.,  25.,  84.,  96., 195.,  53., 217., 172., 131., 214.,\n",
       "        59.,  70., 220., 268., 152.,  47.,  74., 295., 101., 151., 127.,\n",
       "       237., 225.,  81., 151., 107.,  64., 138., 185., 265., 101., 137.,\n",
       "       143., 141.,  79., 292., 178.,  91., 116.,  86., 122.,  72., 129.,\n",
       "       142.,  90., 158.,  39., 196., 222., 277.,  99., 196., 202., 155.,\n",
       "        77., 191.,  70.,  73.,  49.,  65., 263., 248., 296., 214., 185.,\n",
       "        78.,  93., 252., 150.,  77., 208.,  77., 108., 160.,  53., 220.,\n",
       "       154., 259.,  90., 246., 124.,  67.,  72., 257., 262., 275., 177.,\n",
       "        71.,  47., 187., 125.,  78.,  51., 258., 215., 303., 243.,  91.,\n",
       "       150., 310., 153., 346.,  63.,  89.,  50.,  39., 103., 308., 116.,\n",
       "       145.,  74.,  45., 115., 264.,  87., 202., 127., 182., 241.,  66.,\n",
       "        94., 283.,  64., 102., 200., 265.,  94., 230., 181., 156., 233.,\n",
       "        60., 219.,  80.,  68., 332., 248.,  84., 200.,  55.,  85.,  89.,\n",
       "        31., 129.,  83., 275.,  65., 198., 236., 253., 124.,  44., 172.,\n",
       "       114., 142., 109., 180., 144., 163., 147.,  97., 220., 190., 109.,\n",
       "       191., 122., 230., 242., 248., 249., 192., 131., 237.,  78., 135.,\n",
       "       244., 199., 270., 164.,  72.,  96., 306.,  91., 214.,  95., 216.,\n",
       "       263., 178., 113., 200., 139., 139.,  88., 148.,  88., 243.,  71.,\n",
       "        77., 109., 272.,  60.,  54., 221.,  90., 311., 281., 182., 321.,\n",
       "        58., 262., 206., 233., 242., 123., 167.,  63., 197.,  71., 168.,\n",
       "       140., 217., 121., 235., 245.,  40.,  52., 104., 132.,  88.,  69.,\n",
       "       219.,  72., 201., 110.,  51., 277.,  63., 118.,  69., 273., 258.,\n",
       "        43., 198., 242., 232., 175.,  93., 168., 275., 293., 281.,  72.,\n",
       "       140., 189., 181., 209., 136., 261., 113., 131., 174., 257.,  55.,\n",
       "        84.,  42., 146., 212., 233.,  91., 111., 152., 120.,  67., 310.,\n",
       "        94., 183.,  66., 173.,  72.,  49.,  64.,  48., 178., 104., 132.,\n",
       "       220.,  57.])"
      ]
     },
     "execution_count": 7,
     "metadata": {},
     "output_type": "execute_result"
    }
   ],
   "source": [
    "diab.target"
   ]
  },
  {
   "cell_type": "markdown",
   "metadata": {},
   "source": [
    "#### 데이터프레임 변환"
   ]
  },
  {
   "cell_type": "code",
   "execution_count": 8,
   "metadata": {},
   "outputs": [],
   "source": [
    "# 독립변수(피처)와 종속변수를 DataFrame자료형으로 변환"
   ]
  },
  {
   "cell_type": "code",
   "execution_count": 9,
   "metadata": {},
   "outputs": [
    {
     "data": {
      "text/html": [
       "<div>\n",
       "<style scoped>\n",
       "    .dataframe tbody tr th:only-of-type {\n",
       "        vertical-align: middle;\n",
       "    }\n",
       "\n",
       "    .dataframe tbody tr th {\n",
       "        vertical-align: top;\n",
       "    }\n",
       "\n",
       "    .dataframe thead th {\n",
       "        text-align: right;\n",
       "    }\n",
       "</style>\n",
       "<table border=\"1\" class=\"dataframe\">\n",
       "  <thead>\n",
       "    <tr style=\"text-align: right;\">\n",
       "      <th></th>\n",
       "      <th>age</th>\n",
       "      <th>sex</th>\n",
       "      <th>bmi</th>\n",
       "      <th>bp</th>\n",
       "      <th>s1</th>\n",
       "      <th>s2</th>\n",
       "      <th>s3</th>\n",
       "      <th>s4</th>\n",
       "      <th>s5</th>\n",
       "      <th>s6</th>\n",
       "    </tr>\n",
       "  </thead>\n",
       "  <tbody>\n",
       "    <tr>\n",
       "      <th>0</th>\n",
       "      <td>0.038076</td>\n",
       "      <td>0.050680</td>\n",
       "      <td>0.061696</td>\n",
       "      <td>0.021872</td>\n",
       "      <td>-0.044223</td>\n",
       "      <td>-0.034821</td>\n",
       "      <td>-0.043401</td>\n",
       "      <td>-0.002592</td>\n",
       "      <td>0.019908</td>\n",
       "      <td>-0.017646</td>\n",
       "    </tr>\n",
       "    <tr>\n",
       "      <th>1</th>\n",
       "      <td>-0.001882</td>\n",
       "      <td>-0.044642</td>\n",
       "      <td>-0.051474</td>\n",
       "      <td>-0.026328</td>\n",
       "      <td>-0.008449</td>\n",
       "      <td>-0.019163</td>\n",
       "      <td>0.074412</td>\n",
       "      <td>-0.039493</td>\n",
       "      <td>-0.068330</td>\n",
       "      <td>-0.092204</td>\n",
       "    </tr>\n",
       "    <tr>\n",
       "      <th>2</th>\n",
       "      <td>0.085299</td>\n",
       "      <td>0.050680</td>\n",
       "      <td>0.044451</td>\n",
       "      <td>-0.005671</td>\n",
       "      <td>-0.045599</td>\n",
       "      <td>-0.034194</td>\n",
       "      <td>-0.032356</td>\n",
       "      <td>-0.002592</td>\n",
       "      <td>0.002864</td>\n",
       "      <td>-0.025930</td>\n",
       "    </tr>\n",
       "    <tr>\n",
       "      <th>3</th>\n",
       "      <td>-0.089063</td>\n",
       "      <td>-0.044642</td>\n",
       "      <td>-0.011595</td>\n",
       "      <td>-0.036656</td>\n",
       "      <td>0.012191</td>\n",
       "      <td>0.024991</td>\n",
       "      <td>-0.036038</td>\n",
       "      <td>0.034309</td>\n",
       "      <td>0.022692</td>\n",
       "      <td>-0.009362</td>\n",
       "    </tr>\n",
       "    <tr>\n",
       "      <th>4</th>\n",
       "      <td>0.005383</td>\n",
       "      <td>-0.044642</td>\n",
       "      <td>-0.036385</td>\n",
       "      <td>0.021872</td>\n",
       "      <td>0.003935</td>\n",
       "      <td>0.015596</td>\n",
       "      <td>0.008142</td>\n",
       "      <td>-0.002592</td>\n",
       "      <td>-0.031991</td>\n",
       "      <td>-0.046641</td>\n",
       "    </tr>\n",
       "  </tbody>\n",
       "</table>\n",
       "</div>"
      ],
      "text/plain": [
       "        age       sex       bmi        bp        s1        s2        s3  \\\n",
       "0  0.038076  0.050680  0.061696  0.021872 -0.044223 -0.034821 -0.043401   \n",
       "1 -0.001882 -0.044642 -0.051474 -0.026328 -0.008449 -0.019163  0.074412   \n",
       "2  0.085299  0.050680  0.044451 -0.005671 -0.045599 -0.034194 -0.032356   \n",
       "3 -0.089063 -0.044642 -0.011595 -0.036656  0.012191  0.024991 -0.036038   \n",
       "4  0.005383 -0.044642 -0.036385  0.021872  0.003935  0.015596  0.008142   \n",
       "\n",
       "         s4        s5        s6  \n",
       "0 -0.002592  0.019908 -0.017646  \n",
       "1 -0.039493 -0.068330 -0.092204  \n",
       "2 -0.002592  0.002864 -0.025930  \n",
       "3  0.034309  0.022692 -0.009362  \n",
       "4 -0.002592 -0.031991 -0.046641  "
      ]
     },
     "execution_count": 9,
     "metadata": {},
     "output_type": "execute_result"
    }
   ],
   "source": [
    "# 데이터셋 객체의 data 배열, 즉, 독립변수 X가되는 피처(특성)들을 DataFrame자료형으로 변환하여\n",
    "# diab_df생성\n",
    "# diab_df.head() 데이터 5개 확인\n",
    "\n",
    "diab_df = pd.DataFrame(diab.data, columns = diab.feature_names)\n",
    "diab_df.head()"
   ]
  },
  {
   "cell_type": "code",
   "execution_count": 10,
   "metadata": {},
   "outputs": [
    {
     "data": {
      "text/plain": [
       "(442, 10)"
      ]
     },
     "execution_count": 10,
     "metadata": {},
     "output_type": "execute_result"
    }
   ],
   "source": [
    "diab_df.shape"
   ]
  },
  {
   "cell_type": "code",
   "execution_count": 11,
   "metadata": {},
   "outputs": [
    {
     "name": "stdout",
     "output_type": "stream",
     "text": [
      "<class 'pandas.core.frame.DataFrame'>\n",
      "RangeIndex: 442 entries, 0 to 441\n",
      "Data columns (total 10 columns):\n",
      " #   Column  Non-Null Count  Dtype  \n",
      "---  ------  --------------  -----  \n",
      " 0   age     442 non-null    float64\n",
      " 1   sex     442 non-null    float64\n",
      " 2   bmi     442 non-null    float64\n",
      " 3   bp      442 non-null    float64\n",
      " 4   s1      442 non-null    float64\n",
      " 5   s2      442 non-null    float64\n",
      " 6   s3      442 non-null    float64\n",
      " 7   s4      442 non-null    float64\n",
      " 8   s5      442 non-null    float64\n",
      " 9   s6      442 non-null    float64\n",
      "dtypes: float64(10)\n",
      "memory usage: 34.7 KB\n"
     ]
    }
   ],
   "source": [
    "diab_df.info() # 누락치 확인,  data type 확인 ->  isnull().sum(), target에 결측값이 있으면 해당 관측치 제거"
   ]
  },
  {
   "cell_type": "code",
   "execution_count": 12,
   "metadata": {},
   "outputs": [
    {
     "data": {
      "text/html": [
       "<div>\n",
       "<style scoped>\n",
       "    .dataframe tbody tr th:only-of-type {\n",
       "        vertical-align: middle;\n",
       "    }\n",
       "\n",
       "    .dataframe tbody tr th {\n",
       "        vertical-align: top;\n",
       "    }\n",
       "\n",
       "    .dataframe thead th {\n",
       "        text-align: right;\n",
       "    }\n",
       "</style>\n",
       "<table border=\"1\" class=\"dataframe\">\n",
       "  <thead>\n",
       "    <tr style=\"text-align: right;\">\n",
       "      <th></th>\n",
       "      <th>age</th>\n",
       "      <th>sex</th>\n",
       "      <th>bmi</th>\n",
       "      <th>bp</th>\n",
       "      <th>s1</th>\n",
       "      <th>s2</th>\n",
       "      <th>s3</th>\n",
       "      <th>s4</th>\n",
       "      <th>s5</th>\n",
       "      <th>s6</th>\n",
       "      <th>measure</th>\n",
       "    </tr>\n",
       "  </thead>\n",
       "  <tbody>\n",
       "    <tr>\n",
       "      <th>0</th>\n",
       "      <td>0.038076</td>\n",
       "      <td>0.050680</td>\n",
       "      <td>0.061696</td>\n",
       "      <td>0.021872</td>\n",
       "      <td>-0.044223</td>\n",
       "      <td>-0.034821</td>\n",
       "      <td>-0.043401</td>\n",
       "      <td>-0.002592</td>\n",
       "      <td>0.019908</td>\n",
       "      <td>-0.017646</td>\n",
       "      <td>151.0</td>\n",
       "    </tr>\n",
       "    <tr>\n",
       "      <th>1</th>\n",
       "      <td>-0.001882</td>\n",
       "      <td>-0.044642</td>\n",
       "      <td>-0.051474</td>\n",
       "      <td>-0.026328</td>\n",
       "      <td>-0.008449</td>\n",
       "      <td>-0.019163</td>\n",
       "      <td>0.074412</td>\n",
       "      <td>-0.039493</td>\n",
       "      <td>-0.068330</td>\n",
       "      <td>-0.092204</td>\n",
       "      <td>75.0</td>\n",
       "    </tr>\n",
       "    <tr>\n",
       "      <th>2</th>\n",
       "      <td>0.085299</td>\n",
       "      <td>0.050680</td>\n",
       "      <td>0.044451</td>\n",
       "      <td>-0.005671</td>\n",
       "      <td>-0.045599</td>\n",
       "      <td>-0.034194</td>\n",
       "      <td>-0.032356</td>\n",
       "      <td>-0.002592</td>\n",
       "      <td>0.002864</td>\n",
       "      <td>-0.025930</td>\n",
       "      <td>141.0</td>\n",
       "    </tr>\n",
       "    <tr>\n",
       "      <th>3</th>\n",
       "      <td>-0.089063</td>\n",
       "      <td>-0.044642</td>\n",
       "      <td>-0.011595</td>\n",
       "      <td>-0.036656</td>\n",
       "      <td>0.012191</td>\n",
       "      <td>0.024991</td>\n",
       "      <td>-0.036038</td>\n",
       "      <td>0.034309</td>\n",
       "      <td>0.022692</td>\n",
       "      <td>-0.009362</td>\n",
       "      <td>206.0</td>\n",
       "    </tr>\n",
       "    <tr>\n",
       "      <th>4</th>\n",
       "      <td>0.005383</td>\n",
       "      <td>-0.044642</td>\n",
       "      <td>-0.036385</td>\n",
       "      <td>0.021872</td>\n",
       "      <td>0.003935</td>\n",
       "      <td>0.015596</td>\n",
       "      <td>0.008142</td>\n",
       "      <td>-0.002592</td>\n",
       "      <td>-0.031991</td>\n",
       "      <td>-0.046641</td>\n",
       "      <td>135.0</td>\n",
       "    </tr>\n",
       "  </tbody>\n",
       "</table>\n",
       "</div>"
      ],
      "text/plain": [
       "        age       sex       bmi        bp        s1        s2        s3  \\\n",
       "0  0.038076  0.050680  0.061696  0.021872 -0.044223 -0.034821 -0.043401   \n",
       "1 -0.001882 -0.044642 -0.051474 -0.026328 -0.008449 -0.019163  0.074412   \n",
       "2  0.085299  0.050680  0.044451 -0.005671 -0.045599 -0.034194 -0.032356   \n",
       "3 -0.089063 -0.044642 -0.011595 -0.036656  0.012191  0.024991 -0.036038   \n",
       "4  0.005383 -0.044642 -0.036385  0.021872  0.003935  0.015596  0.008142   \n",
       "\n",
       "         s4        s5        s6  measure  \n",
       "0 -0.002592  0.019908 -0.017646    151.0  \n",
       "1 -0.039493 -0.068330 -0.092204     75.0  \n",
       "2 -0.002592  0.002864 -0.025930    141.0  \n",
       "3  0.034309  0.022692 -0.009362    206.0  \n",
       "4 -0.002592 -0.031991 -0.046641    135.0  "
      ]
     },
     "execution_count": 12,
     "metadata": {},
     "output_type": "execute_result"
    }
   ],
   "source": [
    "diab_df['measure'] = diab.target\n",
    "diab_df.head()"
   ]
  },
  {
   "cell_type": "code",
   "execution_count": 13,
   "metadata": {},
   "outputs": [
    {
     "data": {
      "image/png": "[encoded data removed]",
      "text/plain": [
       "<Figure size 432x288 with 1 Axes>"
      ]
     },
     "metadata": {},
     "output_type": "display_data"
    }
   ],
   "source": [
    "import seaborn as sns\n",
    "sns.set_style('whitegrid')\n",
    "f = sns.distplot(diab_df['measure'])"
   ]
  },
  {
   "cell_type": "code",
   "execution_count": 14,
   "metadata": {},
   "outputs": [],
   "source": [
    "# X(독립변수), Y(종속변수) 분할\n",
    "X = diab_df.drop(['measure'], axis=1)\n",
    "y = diab_df['measure']"
   ]
  },
  {
   "cell_type": "code",
   "execution_count": 15,
   "metadata": {},
   "outputs": [],
   "source": [
    "# 학습용, 평가용 데이터 분리\n",
    "from sklearn.model_selection import train_test_split\n",
    "\n",
    "X_train, X_test, y_train, y_test = \\\n",
    "    train_test_split(X, y, test_size=0.3,random_state=42)"
   ]
  },
  {
   "cell_type": "markdown",
   "metadata": {},
   "source": [
    "# 모델별 계수변화, 알파별 계수 비교 데이터프레임(comp_df)"
   ]
  },
  {
   "cell_type": "code",
   "execution_count": 16,
   "metadata": {},
   "outputs": [],
   "source": [
    "#각 모델별 계수로 이루어진 데이터프레임 준비\n",
    "comp_df = pd.DataFrame(index=(diab.feature_names) + [\"score\"])"
   ]
  },
  {
   "cell_type": "code",
   "execution_count": 17,
   "metadata": {},
   "outputs": [
    {
     "data": {
      "text/plain": [
       "['age', 'sex', 'bmi', 'bp', 's1', 's2', 's3', 's4', 's5', 's6', 'score']"
      ]
     },
     "execution_count": 17,
     "metadata": {},
     "output_type": "execute_result"
    }
   ],
   "source": [
    "#각 모델별, 규제강도별 평가지표 저장\n",
    "diab.feature_names + [\"score\"]"
   ]
  },
  {
   "cell_type": "code",
   "execution_count": 18,
   "metadata": {},
   "outputs": [
    {
     "data": {
      "text/html": [
       "<div>\n",
       "<style scoped>\n",
       "    .dataframe tbody tr th:only-of-type {\n",
       "        vertical-align: middle;\n",
       "    }\n",
       "\n",
       "    .dataframe tbody tr th {\n",
       "        vertical-align: top;\n",
       "    }\n",
       "\n",
       "    .dataframe thead th {\n",
       "        text-align: right;\n",
       "    }\n",
       "</style>\n",
       "<table border=\"1\" class=\"dataframe\">\n",
       "  <thead>\n",
       "    <tr style=\"text-align: right;\">\n",
       "      <th></th>\n",
       "    </tr>\n",
       "  </thead>\n",
       "  <tbody>\n",
       "    <tr>\n",
       "      <th>age</th>\n",
       "    </tr>\n",
       "    <tr>\n",
       "      <th>sex</th>\n",
       "    </tr>\n",
       "    <tr>\n",
       "      <th>bmi</th>\n",
       "    </tr>\n",
       "    <tr>\n",
       "      <th>bp</th>\n",
       "    </tr>\n",
       "    <tr>\n",
       "      <th>s1</th>\n",
       "    </tr>\n",
       "    <tr>\n",
       "      <th>s2</th>\n",
       "    </tr>\n",
       "    <tr>\n",
       "      <th>s3</th>\n",
       "    </tr>\n",
       "    <tr>\n",
       "      <th>s4</th>\n",
       "    </tr>\n",
       "    <tr>\n",
       "      <th>s5</th>\n",
       "    </tr>\n",
       "    <tr>\n",
       "      <th>s6</th>\n",
       "    </tr>\n",
       "    <tr>\n",
       "      <th>score</th>\n",
       "    </tr>\n",
       "  </tbody>\n",
       "</table>\n",
       "</div>"
      ],
      "text/plain": [
       "Empty DataFrame\n",
       "Columns: []\n",
       "Index: [age, sex, bmi, bp, s1, s2, s3, s4, s5, s6, score]"
      ]
     },
     "execution_count": 18,
     "metadata": {},
     "output_type": "execute_result"
    }
   ],
   "source": [
    "comp_df"
   ]
  },
  {
   "cell_type": "markdown",
   "metadata": {},
   "source": [
    "# 1. 규제가 없는 선형모델"
   ]
  },
  {
   "cell_type": "code",
   "execution_count": 19,
   "metadata": {},
   "outputs": [
    {
     "name": "stdout",
     "output_type": "stream",
     "text": [
      "R2: 0.477 \n",
      "\n",
      "age     29.250346\n",
      "sex   -261.707681\n",
      "bmi    546.297373\n",
      "bp     388.400773\n",
      "s1    -901.953387\n",
      "s2     506.761149\n",
      "s3     121.148459\n",
      "s4     288.029325\n",
      "s5     659.271338\n",
      "s6      41.375369\n",
      "dtype: float64\n"
     ]
    }
   ],
   "source": [
    "#모델 구축 및 학습\n",
    "model_LR = LinearRegression()\n",
    "model_LR.fit(X_train, y_train)\n",
    "\n",
    "#모델 평가\n",
    "y_pred = model_LR.predict(X_test)\n",
    "r2 = r2_score(y_test, y_pred)\n",
    "\n",
    "# 회귀 계수 확인\n",
    "coef = pd.Series(model_LR.coef_, index=X_test.columns)\n",
    "\n",
    "print(\"R2: {:.3f} \\n\".format(r2))\n",
    "print(coef)"
   ]
  },
  {
   "cell_type": "markdown",
   "metadata": {},
   "source": [
    "- 계수값 시각화"
   ]
  },
  {
   "cell_type": "code",
   "execution_count": 21,
   "metadata": {},
   "outputs": [
    {
     "data": {
      "image/png": "[encoded data removed]",
      "text/plain": [
       "<Figure size 720x216 with 1 Axes>"
      ]
     },
     "metadata": {},
     "output_type": "display_data"
    }
   ],
   "source": [
    "coef = pd.Series(data=np.abs(model_LR.coef_), index=X_test.columns).sort_values(ascending=False)\n",
    "\n",
    "# 시각화\n",
    "plt.figure(figsize=(10, 3))\n",
    "plt.title('Feature importance of coefficients without Regularization', fontsize=15)\n",
    "plt.bar(coef.index, coef.values, align='center')\n",
    "plt.xticks(coef.index, rotation=30, fontsize=11)\n",
    "plt.show()"
   ]
  },
  {
   "cell_type": "code",
   "execution_count": 22,
   "metadata": {},
   "outputs": [
    {
     "data": {
      "text/html": [
       "<div>\n",
       "<style scoped>\n",
       "    .dataframe tbody tr th:only-of-type {\n",
       "        vertical-align: middle;\n",
       "    }\n",
       "\n",
       "    .dataframe tbody tr th {\n",
       "        vertical-align: top;\n",
       "    }\n",
       "\n",
       "    .dataframe thead th {\n",
       "        text-align: right;\n",
       "    }\n",
       "</style>\n",
       "<table border=\"1\" class=\"dataframe\">\n",
       "  <thead>\n",
       "    <tr style=\"text-align: right;\">\n",
       "      <th></th>\n",
       "      <th>LR</th>\n",
       "    </tr>\n",
       "  </thead>\n",
       "  <tbody>\n",
       "    <tr>\n",
       "      <th>age</th>\n",
       "      <td>29.250346</td>\n",
       "    </tr>\n",
       "    <tr>\n",
       "      <th>sex</th>\n",
       "      <td>-261.707681</td>\n",
       "    </tr>\n",
       "    <tr>\n",
       "      <th>bmi</th>\n",
       "      <td>546.297373</td>\n",
       "    </tr>\n",
       "    <tr>\n",
       "      <th>bp</th>\n",
       "      <td>388.400773</td>\n",
       "    </tr>\n",
       "    <tr>\n",
       "      <th>s1</th>\n",
       "      <td>-901.953387</td>\n",
       "    </tr>\n",
       "    <tr>\n",
       "      <th>s2</th>\n",
       "      <td>506.761149</td>\n",
       "    </tr>\n",
       "    <tr>\n",
       "      <th>s3</th>\n",
       "      <td>121.148459</td>\n",
       "    </tr>\n",
       "    <tr>\n",
       "      <th>s4</th>\n",
       "      <td>288.029325</td>\n",
       "    </tr>\n",
       "    <tr>\n",
       "      <th>s5</th>\n",
       "      <td>659.271338</td>\n",
       "    </tr>\n",
       "    <tr>\n",
       "      <th>s6</th>\n",
       "      <td>41.375369</td>\n",
       "    </tr>\n",
       "    <tr>\n",
       "      <th>score</th>\n",
       "      <td>0.477292</td>\n",
       "    </tr>\n",
       "  </tbody>\n",
       "</table>\n",
       "</div>"
      ],
      "text/plain": [
       "               LR\n",
       "age     29.250346\n",
       "sex   -261.707681\n",
       "bmi    546.297373\n",
       "bp     388.400773\n",
       "s1    -901.953387\n",
       "s2     506.761149\n",
       "s3     121.148459\n",
       "s4     288.029325\n",
       "s5     659.271338\n",
       "s6      41.375369\n",
       "score    0.477292"
      ]
     },
     "execution_count": 22,
     "metadata": {},
     "output_type": "execute_result"
    }
   ],
   "source": [
    "# 모델별 비교 데이터프레임 열 추가\n",
    "comp_df['LR'] = np.append(model_LR.coef_, r2 )\n",
    "comp_df"
   ]
  },
  {
   "cell_type": "markdown",
   "metadata": {},
   "source": [
    "# 1. 릿지 모델"
   ]
  },
  {
   "cell_type": "code",
   "execution_count": 23,
   "metadata": {},
   "outputs": [],
   "source": [
    "from sklearn.linear_model import Ridge"
   ]
  },
  {
   "cell_type": "code",
   "execution_count": 27,
   "metadata": {},
   "outputs": [
    {
     "data": {
      "text/plain": [
       "Ridge(alpha=1)"
      ]
     },
     "execution_count": 27,
     "metadata": {},
     "output_type": "execute_result"
    }
   ],
   "source": [
    "# 릿지 선형회귀 모델 평가: model_Ridge1, alpha=1\n",
    "\n",
    "# a=1일때 회귀 계수 확인\n",
    "model_Ridge1 = Ridge(alpha=1)\n",
    "model_Ridge1.fit(X_train,y_train)"
   ]
  },
  {
   "cell_type": "code",
   "execution_count": 28,
   "metadata": {},
   "outputs": [
    {
     "name": "stdout",
     "output_type": "stream",
     "text": [
      "R2:0.423 \n",
      "\n",
      "age     45.053767\n",
      "sex    -71.947551\n",
      "bmi    280.715875\n",
      "bp     195.213699\n",
      "s1      -2.229433\n",
      "s2     -17.541159\n",
      "s3    -148.688994\n",
      "s4     120.467093\n",
      "s5     198.614859\n",
      "s6     106.934534\n",
      "dtype: float64\n"
     ]
    }
   ],
   "source": [
    "#선형회귀 모델 평가\n",
    "y_pred = model_Ridge1.predict(X_test)\n",
    "r2=r2_score(y_test,y_pred)\n",
    "\n",
    "coef = pd.Series(model_Ridge1.coef_, index = X_test.columns)\n",
    "print(\"R2:{:.3f} \\n\".format(r2))\n",
    "print(coef)"
   ]
  },
  {
   "cell_type": "markdown",
   "metadata": {},
   "source": [
    "- 계수값 시각화"
   ]
  },
  {
   "cell_type": "code",
   "execution_count": 29,
   "metadata": {},
   "outputs": [
    {
     "data": {
      "image/png": "[encoded data removed]",
      "text/plain": [
       "<Figure size 720x216 with 1 Axes>"
      ]
     },
     "metadata": {},
     "output_type": "display_data"
    }
   ],
   "source": [
    "coef = pd.Series(data=np.abs(model_Ridge1.coef_), index=X_test.columns).sort_values(ascending=False)\n",
    "\n",
    "# 시각화\n",
    "plt.figure(figsize=(10, 3))\n",
    "plt.title('Feature importance of coefficients in Ridge(alpha=1)', fontsize=15)\n",
    "plt.bar(coef.index, coef.values, align='center')\n",
    "plt.xticks(coef.index, rotation=30, fontsize=11)\n",
    "plt.show()"
   ]
  },
  {
   "cell_type": "code",
   "execution_count": null,
   "metadata": {},
   "outputs": [],
   "source": []
  },
  {
   "cell_type": "code",
   "execution_count": 31,
   "metadata": {},
   "outputs": [
    {
     "data": {
      "text/html": [
       "<div>\n",
       "<style scoped>\n",
       "    .dataframe tbody tr th:only-of-type {\n",
       "        vertical-align: middle;\n",
       "    }\n",
       "\n",
       "    .dataframe tbody tr th {\n",
       "        vertical-align: top;\n",
       "    }\n",
       "\n",
       "    .dataframe thead th {\n",
       "        text-align: right;\n",
       "    }\n",
       "</style>\n",
       "<table border=\"1\" class=\"dataframe\">\n",
       "  <thead>\n",
       "    <tr style=\"text-align: right;\">\n",
       "      <th></th>\n",
       "      <th>LR</th>\n",
       "      <th>Ridge(alpha=0.01)</th>\n",
       "      <th>Ridge(alpha=1.00)</th>\n",
       "      <th>Ridge(alpha=10.00)</th>\n",
       "      <th>Ridge(alpha=100.00)</th>\n",
       "    </tr>\n",
       "  </thead>\n",
       "  <tbody>\n",
       "    <tr>\n",
       "      <th>age</th>\n",
       "      <td>29.250346</td>\n",
       "      <td>34.164603</td>\n",
       "      <td>45.053767</td>\n",
       "      <td>16.230871</td>\n",
       "      <td>2.072848</td>\n",
       "    </tr>\n",
       "    <tr>\n",
       "      <th>sex</th>\n",
       "      <td>-261.707681</td>\n",
       "      <td>-254.044322</td>\n",
       "      <td>-71.947551</td>\n",
       "      <td>-2.961374</td>\n",
       "      <td>-0.003808</td>\n",
       "    </tr>\n",
       "    <tr>\n",
       "      <th>bmi</th>\n",
       "      <td>546.297373</td>\n",
       "      <td>550.842404</td>\n",
       "      <td>280.715875</td>\n",
       "      <td>59.524146</td>\n",
       "      <td>6.899915</td>\n",
       "    </tr>\n",
       "    <tr>\n",
       "      <th>bp</th>\n",
       "      <td>388.400773</td>\n",
       "      <td>379.130249</td>\n",
       "      <td>195.213699</td>\n",
       "      <td>43.421500</td>\n",
       "      <td>5.085125</td>\n",
       "    </tr>\n",
       "    <tr>\n",
       "      <th>s1</th>\n",
       "      <td>-901.953387</td>\n",
       "      <td>-404.246797</td>\n",
       "      <td>-2.229433</td>\n",
       "      <td>13.875065</td>\n",
       "      <td>2.069660</td>\n",
       "    </tr>\n",
       "    <tr>\n",
       "      <th>s2</th>\n",
       "      <td>506.761149</td>\n",
       "      <td>123.024271</td>\n",
       "      <td>-17.541159</td>\n",
       "      <td>10.865253</td>\n",
       "      <td>1.743747</td>\n",
       "    </tr>\n",
       "    <tr>\n",
       "      <th>s3</th>\n",
       "      <td>121.148459</td>\n",
       "      <td>-99.046718</td>\n",
       "      <td>-148.688994</td>\n",
       "      <td>-37.495849</td>\n",
       "      <td>-4.508876</td>\n",
       "    </tr>\n",
       "    <tr>\n",
       "      <th>s4</th>\n",
       "      <td>288.029325</td>\n",
       "      <td>215.029206</td>\n",
       "      <td>120.467093</td>\n",
       "      <td>38.728531</td>\n",
       "      <td>4.902421</td>\n",
       "    </tr>\n",
       "    <tr>\n",
       "      <th>s5</th>\n",
       "      <td>659.271338</td>\n",
       "      <td>463.843218</td>\n",
       "      <td>198.614859</td>\n",
       "      <td>49.224775</td>\n",
       "      <td>5.926497</td>\n",
       "    </tr>\n",
       "    <tr>\n",
       "      <th>s6</th>\n",
       "      <td>41.375369</td>\n",
       "      <td>50.350550</td>\n",
       "      <td>106.934534</td>\n",
       "      <td>34.737979</td>\n",
       "      <td>4.328698</td>\n",
       "    </tr>\n",
       "    <tr>\n",
       "      <th>score</th>\n",
       "      <td>0.477292</td>\n",
       "      <td>0.477674</td>\n",
       "      <td>0.423345</td>\n",
       "      <td>0.151566</td>\n",
       "      <td>0.014770</td>\n",
       "    </tr>\n",
       "  </tbody>\n",
       "</table>\n",
       "</div>"
      ],
      "text/plain": [
       "               LR  Ridge(alpha=0.01)  Ridge(alpha=1.00)  Ridge(alpha=10.00)  \\\n",
       "age     29.250346          34.164603          45.053767           16.230871   \n",
       "sex   -261.707681        -254.044322         -71.947551           -2.961374   \n",
       "bmi    546.297373         550.842404         280.715875           59.524146   \n",
       "bp     388.400773         379.130249         195.213699           43.421500   \n",
       "s1    -901.953387        -404.246797          -2.229433           13.875065   \n",
       "s2     506.761149         123.024271         -17.541159           10.865253   \n",
       "s3     121.148459         -99.046718        -148.688994          -37.495849   \n",
       "s4     288.029325         215.029206         120.467093           38.728531   \n",
       "s5     659.271338         463.843218         198.614859           49.224775   \n",
       "s6      41.375369          50.350550         106.934534           34.737979   \n",
       "score    0.477292           0.477674           0.423345            0.151566   \n",
       "\n",
       "       Ridge(alpha=100.00)  \n",
       "age               2.072848  \n",
       "sex              -0.003808  \n",
       "bmi               6.899915  \n",
       "bp                5.085125  \n",
       "s1                2.069660  \n",
       "s2                1.743747  \n",
       "s3               -4.508876  \n",
       "s4                4.902421  \n",
       "s5                5.926497  \n",
       "s6                4.328698  \n",
       "score             0.014770  "
      ]
     },
     "execution_count": 31,
     "metadata": {},
     "output_type": "execute_result"
    }
   ],
   "source": [
    "# alpha_list=[0.01, 1, 10, 100]인 경우\n",
    "alpha_list=[0.01, 1, 10, 100]\n",
    "for alpha in alpha_list:\n",
    "    model_Ridge = Ridge(alpha=alpha)\n",
    "    model_Ridge.fit(X_train,y_train)\n",
    "    \n",
    "    y_pred = model_Ridge.predict(X_test)\n",
    "    r2= r2_score(y_test,y_pred)\n",
    "    \n",
    "    col_name = 'Ridge(alpha={:.2f})'.format(alpha)\n",
    "    comp_df[col_name] = np.append(model_Ridge.coef_, r2)\n",
    "    \n",
    "comp_df"
   ]
  },
  {
   "cell_type": "code",
   "execution_count": null,
   "metadata": {},
   "outputs": [],
   "source": []
  },
  {
   "cell_type": "markdown",
   "metadata": {},
   "source": [
    "# 2. 라쏘 모델"
   ]
  },
  {
   "cell_type": "code",
   "execution_count": 32,
   "metadata": {},
   "outputs": [
    {
     "data": {
      "text/plain": [
       "Lasso(alpha=1)"
      ]
     },
     "execution_count": 32,
     "metadata": {},
     "output_type": "execute_result"
    }
   ],
   "source": [
    "from sklearn.linear_model import Lasso\n",
    "\n",
    "#alpha =1\n",
    "model_Lasso1  = Lasso(alpha=1)\n",
    "\n",
    "model_Lasso1.fit(X_train,y_train)"
   ]
  },
  {
   "cell_type": "code",
   "execution_count": 33,
   "metadata": {},
   "outputs": [
    {
     "name": "stdout",
     "output_type": "stream",
     "text": [
      "R2:0.362 \n",
      "\n",
      "age      0.000000\n",
      "sex     -0.000000\n",
      "bmi    443.702165\n",
      "bp      51.603401\n",
      "s1       0.000000\n",
      "s2       0.000000\n",
      "s3      -0.000000\n",
      "s4       0.000000\n",
      "s5     201.967127\n",
      "s6       0.000000\n",
      "dtype: float64\n"
     ]
    }
   ],
   "source": [
    "# 라쏘 선형회귀 모델 평가(alpha=1)\n",
    "y_pred = model_Lasso1.predict(X_test)\n",
    "r2=r2_score(y_test,y_pred)\n",
    "\n",
    "coef = pd.Series(model_Lasso1.coef_, index = X_test.columns)\n",
    "print(\"R2:{:.3f} \\n\".format(r2))\n",
    "print(coef)"
   ]
  },
  {
   "cell_type": "markdown",
   "metadata": {},
   "source": [
    "- 계수 시각화"
   ]
  },
  {
   "cell_type": "code",
   "execution_count": 34,
   "metadata": {},
   "outputs": [
    {
     "data": {
      "image/png": "[encoded data removed]",
      "text/plain": [
       "<Figure size 720x216 with 1 Axes>"
      ]
     },
     "metadata": {},
     "output_type": "display_data"
    }
   ],
   "source": [
    "coef = pd.Series(data=np.abs(model_Lasso1.coef_), index=X_test.columns).sort_values(ascending=False)\n",
    "\n",
    "# 시각화\n",
    "plt.figure(figsize=(10, 3))\n",
    "plt.title('Feature importance of coefficients in Lasso(alpha=1)', fontsize=15)\n",
    "plt.bar(coef.index, coef.values, align='center')\n",
    "plt.xticks(coef.index, rotation=30, fontsize=11)\n",
    "plt.show()"
   ]
  },
  {
   "cell_type": "code",
   "execution_count": 35,
   "metadata": {},
   "outputs": [
    {
     "data": {
      "text/html": [
       "<div>\n",
       "<style scoped>\n",
       "    .dataframe tbody tr th:only-of-type {\n",
       "        vertical-align: middle;\n",
       "    }\n",
       "\n",
       "    .dataframe tbody tr th {\n",
       "        vertical-align: top;\n",
       "    }\n",
       "\n",
       "    .dataframe thead th {\n",
       "        text-align: right;\n",
       "    }\n",
       "</style>\n",
       "<table border=\"1\" class=\"dataframe\">\n",
       "  <thead>\n",
       "    <tr style=\"text-align: right;\">\n",
       "      <th></th>\n",
       "      <th>LR</th>\n",
       "      <th>Ridge(alpha=0.01)</th>\n",
       "      <th>Ridge(alpha=1.00)</th>\n",
       "      <th>Ridge(alpha=10.00)</th>\n",
       "      <th>Ridge(alpha=100.00)</th>\n",
       "      <th>Lasso(alpha=0.01)</th>\n",
       "      <th>Lasso(alpha=1.00)</th>\n",
       "      <th>Lasso(alpha=10.00)</th>\n",
       "      <th>Lasso(alpha=100.00)</th>\n",
       "    </tr>\n",
       "  </thead>\n",
       "  <tbody>\n",
       "    <tr>\n",
       "      <th>age</th>\n",
       "      <td>29.250346</td>\n",
       "      <td>34.164603</td>\n",
       "      <td>45.053767</td>\n",
       "      <td>16.230871</td>\n",
       "      <td>2.072848</td>\n",
       "      <td>28.243511</td>\n",
       "      <td>0.000000</td>\n",
       "      <td>0.000000</td>\n",
       "      <td>0.000000</td>\n",
       "    </tr>\n",
       "    <tr>\n",
       "      <th>sex</th>\n",
       "      <td>-261.707681</td>\n",
       "      <td>-254.044322</td>\n",
       "      <td>-71.947551</td>\n",
       "      <td>-2.961374</td>\n",
       "      <td>-0.003808</td>\n",
       "      <td>-250.820194</td>\n",
       "      <td>-0.000000</td>\n",
       "      <td>0.000000</td>\n",
       "      <td>0.000000</td>\n",
       "    </tr>\n",
       "    <tr>\n",
       "      <th>bmi</th>\n",
       "      <td>546.297373</td>\n",
       "      <td>550.842404</td>\n",
       "      <td>280.715875</td>\n",
       "      <td>59.524146</td>\n",
       "      <td>6.899915</td>\n",
       "      <td>556.213504</td>\n",
       "      <td>443.702165</td>\n",
       "      <td>0.000000</td>\n",
       "      <td>0.000000</td>\n",
       "    </tr>\n",
       "    <tr>\n",
       "      <th>bp</th>\n",
       "      <td>388.400773</td>\n",
       "      <td>379.130249</td>\n",
       "      <td>195.213699</td>\n",
       "      <td>43.421500</td>\n",
       "      <td>5.085125</td>\n",
       "      <td>380.662908</td>\n",
       "      <td>51.603401</td>\n",
       "      <td>0.000000</td>\n",
       "      <td>0.000000</td>\n",
       "    </tr>\n",
       "    <tr>\n",
       "      <th>s1</th>\n",
       "      <td>-901.953387</td>\n",
       "      <td>-404.246797</td>\n",
       "      <td>-2.229433</td>\n",
       "      <td>13.875065</td>\n",
       "      <td>2.069660</td>\n",
       "      <td>-468.724831</td>\n",
       "      <td>0.000000</td>\n",
       "      <td>0.000000</td>\n",
       "      <td>0.000000</td>\n",
       "    </tr>\n",
       "    <tr>\n",
       "      <th>s2</th>\n",
       "      <td>506.761149</td>\n",
       "      <td>123.024271</td>\n",
       "      <td>-17.541159</td>\n",
       "      <td>10.865253</td>\n",
       "      <td>1.743747</td>\n",
       "      <td>166.982612</td>\n",
       "      <td>0.000000</td>\n",
       "      <td>0.000000</td>\n",
       "      <td>0.000000</td>\n",
       "    </tr>\n",
       "    <tr>\n",
       "      <th>s3</th>\n",
       "      <td>121.148459</td>\n",
       "      <td>-99.046718</td>\n",
       "      <td>-148.688994</td>\n",
       "      <td>-37.495849</td>\n",
       "      <td>-4.508876</td>\n",
       "      <td>-60.228572</td>\n",
       "      <td>-0.000000</td>\n",
       "      <td>-0.000000</td>\n",
       "      <td>-0.000000</td>\n",
       "    </tr>\n",
       "    <tr>\n",
       "      <th>s4</th>\n",
       "      <td>288.029325</td>\n",
       "      <td>215.029206</td>\n",
       "      <td>120.467093</td>\n",
       "      <td>38.728531</td>\n",
       "      <td>4.902421</td>\n",
       "      <td>230.910912</td>\n",
       "      <td>0.000000</td>\n",
       "      <td>0.000000</td>\n",
       "      <td>0.000000</td>\n",
       "    </tr>\n",
       "    <tr>\n",
       "      <th>s5</th>\n",
       "      <td>659.271338</td>\n",
       "      <td>463.843218</td>\n",
       "      <td>198.614859</td>\n",
       "      <td>49.224775</td>\n",
       "      <td>5.926497</td>\n",
       "      <td>492.632152</td>\n",
       "      <td>201.967127</td>\n",
       "      <td>0.000000</td>\n",
       "      <td>0.000000</td>\n",
       "    </tr>\n",
       "    <tr>\n",
       "      <th>s6</th>\n",
       "      <td>41.375369</td>\n",
       "      <td>50.350550</td>\n",
       "      <td>106.934534</td>\n",
       "      <td>34.737979</td>\n",
       "      <td>4.328698</td>\n",
       "      <td>43.968404</td>\n",
       "      <td>0.000000</td>\n",
       "      <td>0.000000</td>\n",
       "      <td>0.000000</td>\n",
       "    </tr>\n",
       "    <tr>\n",
       "      <th>score</th>\n",
       "      <td>0.477292</td>\n",
       "      <td>0.477674</td>\n",
       "      <td>0.423345</td>\n",
       "      <td>0.151566</td>\n",
       "      <td>0.014770</td>\n",
       "      <td>0.478716</td>\n",
       "      <td>0.361899</td>\n",
       "      <td>-0.006405</td>\n",
       "      <td>-0.006405</td>\n",
       "    </tr>\n",
       "  </tbody>\n",
       "</table>\n",
       "</div>"
      ],
      "text/plain": [
       "               LR  Ridge(alpha=0.01)  Ridge(alpha=1.00)  Ridge(alpha=10.00)  \\\n",
       "age     29.250346          34.164603          45.053767           16.230871   \n",
       "sex   -261.707681        -254.044322         -71.947551           -2.961374   \n",
       "bmi    546.297373         550.842404         280.715875           59.524146   \n",
       "bp     388.400773         379.130249         195.213699           43.421500   \n",
       "s1    -901.953387        -404.246797          -2.229433           13.875065   \n",
       "s2     506.761149         123.024271         -17.541159           10.865253   \n",
       "s3     121.148459         -99.046718        -148.688994          -37.495849   \n",
       "s4     288.029325         215.029206         120.467093           38.728531   \n",
       "s5     659.271338         463.843218         198.614859           49.224775   \n",
       "s6      41.375369          50.350550         106.934534           34.737979   \n",
       "score    0.477292           0.477674           0.423345            0.151566   \n",
       "\n",
       "       Ridge(alpha=100.00)  Lasso(alpha=0.01)  Lasso(alpha=1.00)  \\\n",
       "age               2.072848          28.243511           0.000000   \n",
       "sex              -0.003808        -250.820194          -0.000000   \n",
       "bmi               6.899915         556.213504         443.702165   \n",
       "bp                5.085125         380.662908          51.603401   \n",
       "s1                2.069660        -468.724831           0.000000   \n",
       "s2                1.743747         166.982612           0.000000   \n",
       "s3               -4.508876         -60.228572          -0.000000   \n",
       "s4                4.902421         230.910912           0.000000   \n",
       "s5                5.926497         492.632152         201.967127   \n",
       "s6                4.328698          43.968404           0.000000   \n",
       "score             0.014770           0.478716           0.361899   \n",
       "\n",
       "       Lasso(alpha=10.00)  Lasso(alpha=100.00)  \n",
       "age              0.000000             0.000000  \n",
       "sex              0.000000             0.000000  \n",
       "bmi              0.000000             0.000000  \n",
       "bp               0.000000             0.000000  \n",
       "s1               0.000000             0.000000  \n",
       "s2               0.000000             0.000000  \n",
       "s3              -0.000000            -0.000000  \n",
       "s4               0.000000             0.000000  \n",
       "s5               0.000000             0.000000  \n",
       "s6               0.000000             0.000000  \n",
       "score           -0.006405            -0.006405  "
      ]
     },
     "execution_count": 35,
     "metadata": {},
     "output_type": "execute_result"
    }
   ],
   "source": [
    "# alpha_list=[0.01, 1, 10, 100]인 경우\n",
    "alpha_list=[0.01, 1, 10, 100]\n",
    "for alpha in alpha_list:\n",
    "    model_Lasso = Lasso(alpha=alpha)\n",
    "    model_Lasso.fit(X_train,y_train)\n",
    "    \n",
    "    y_pred = model_Lasso.predict(X_test)\n",
    "    r2= r2_score(y_test,y_pred)\n",
    "    \n",
    "    col_name = 'Lasso(alpha={:.2f})'.format(alpha)\n",
    "    comp_df[col_name] = np.append(model_Lasso.coef_, r2)\n",
    "    \n",
    "comp_df"
   ]
  },
  {
   "cell_type": "code",
   "execution_count": null,
   "metadata": {},
   "outputs": [],
   "source": []
  },
  {
   "cell_type": "markdown",
   "metadata": {},
   "source": [
    "# 3. 엘라스틱넷 모델"
   ]
  },
  {
   "cell_type": "code",
   "execution_count": 37,
   "metadata": {},
   "outputs": [
    {
     "data": {
      "text/plain": [
       "ElasticNet(alpha=1)"
      ]
     },
     "execution_count": 37,
     "metadata": {},
     "output_type": "execute_result"
    }
   ],
   "source": [
    "from sklearn.linear_model import ElasticNet\n",
    "# 모델 구축 및 학습(alpha=1, l1_ratio=0.5)\n",
    "model_ElasticNet1 = ElasticNet(alpha=1,l1_ratio=0.5)\n",
    "\n",
    "model_ElasticNet1.fit(X_train,y_train)"
   ]
  },
  {
   "cell_type": "code",
   "execution_count": 38,
   "metadata": {},
   "outputs": [
    {
     "name": "stdout",
     "output_type": "stream",
     "text": [
      "R2:0.003 \n",
      "\n",
      "age    0.367567\n",
      "sex    0.000000\n",
      "bmi    3.512046\n",
      "bp     2.328663\n",
      "s1     0.380194\n",
      "s2     0.168337\n",
      "s3    -1.955958\n",
      "s4     2.228128\n",
      "s5     2.887428\n",
      "s6     1.846225\n",
      "dtype: float64\n"
     ]
    }
   ],
   "source": [
    "#모델 평가 및 회귀 계수 확인\n",
    "y_pred = model_ElasticNet1.predict(X_test)\n",
    "r2=r2_score(y_test,y_pred)\n",
    "\n",
    "coef = pd.Series(model_ElasticNet1.coef_, index = X_test.columns)\n",
    "print(\"R2:{:.3f} \\n\".format(r2))\n",
    "print(coef)"
   ]
  },
  {
   "cell_type": "markdown",
   "metadata": {},
   "source": [
    "- 계수 시각화"
   ]
  },
  {
   "cell_type": "code",
   "execution_count": 39,
   "metadata": {},
   "outputs": [
    {
     "data": {
      "image/png": "[encoded data removed]",
      "text/plain": [
       "<Figure size 720x216 with 1 Axes>"
      ]
     },
     "metadata": {},
     "output_type": "display_data"
    }
   ],
   "source": [
    "coef = pd.Series(data=np.abs(model_ElasticNet1.coef_), index=X_test.columns).sort_values(ascending=False)\n",
    "\n",
    "# 시각화\n",
    "plt.figure(figsize=(10, 3))\n",
    "plt.title('Feature importance of coefficients in ElasticNet(alpha=1, l1_ratio=0.5)', fontsize=15)\n",
    "plt.bar(coef.index, coef.values, align='center')\n",
    "plt.xticks(coef.index, rotation=30, fontsize=11)\n",
    "plt.show()"
   ]
  },
  {
   "cell_type": "code",
   "execution_count": null,
   "metadata": {},
   "outputs": [],
   "source": [
    "# 엘라스틱넷 선형회귀 모델 평가(alpha=1)"
   ]
  },
  {
   "cell_type": "code",
   "execution_count": 40,
   "metadata": {},
   "outputs": [
    {
     "data": {
      "text/html": [
       "<div>\n",
       "<style scoped>\n",
       "    .dataframe tbody tr th:only-of-type {\n",
       "        vertical-align: middle;\n",
       "    }\n",
       "\n",
       "    .dataframe tbody tr th {\n",
       "        vertical-align: top;\n",
       "    }\n",
       "\n",
       "    .dataframe thead th {\n",
       "        text-align: right;\n",
       "    }\n",
       "</style>\n",
       "<table border=\"1\" class=\"dataframe\">\n",
       "  <thead>\n",
       "    <tr style=\"text-align: right;\">\n",
       "      <th></th>\n",
       "      <th>LR</th>\n",
       "      <th>Ridge(alpha=0.01)</th>\n",
       "      <th>Ridge(alpha=1.00)</th>\n",
       "      <th>Ridge(alpha=10.00)</th>\n",
       "      <th>Ridge(alpha=100.00)</th>\n",
       "      <th>Lasso(alpha=0.01)</th>\n",
       "      <th>Lasso(alpha=1.00)</th>\n",
       "      <th>Lasso(alpha=10.00)</th>\n",
       "      <th>Lasso(alpha=100.00)</th>\n",
       "      <th>ElasticNet(alpha=0.01)</th>\n",
       "      <th>ElasticNet(alpha=1.00)</th>\n",
       "      <th>ElasticNet(alpha=10.00)</th>\n",
       "      <th>ElasticNet(alpha=100.00)</th>\n",
       "    </tr>\n",
       "  </thead>\n",
       "  <tbody>\n",
       "    <tr>\n",
       "      <th>age</th>\n",
       "      <td>29.250346</td>\n",
       "      <td>34.164603</td>\n",
       "      <td>45.053767</td>\n",
       "      <td>16.230871</td>\n",
       "      <td>2.072848</td>\n",
       "      <td>28.243511</td>\n",
       "      <td>0.000000</td>\n",
       "      <td>0.000000</td>\n",
       "      <td>0.000000</td>\n",
       "      <td>41.417724</td>\n",
       "      <td>0.367567</td>\n",
       "      <td>0.000000</td>\n",
       "      <td>0.000000</td>\n",
       "    </tr>\n",
       "    <tr>\n",
       "      <th>sex</th>\n",
       "      <td>-261.707681</td>\n",
       "      <td>-254.044322</td>\n",
       "      <td>-71.947551</td>\n",
       "      <td>-2.961374</td>\n",
       "      <td>-0.003808</td>\n",
       "      <td>-250.820194</td>\n",
       "      <td>-0.000000</td>\n",
       "      <td>0.000000</td>\n",
       "      <td>0.000000</td>\n",
       "      <td>-45.935113</td>\n",
       "      <td>0.000000</td>\n",
       "      <td>0.000000</td>\n",
       "      <td>0.000000</td>\n",
       "    </tr>\n",
       "    <tr>\n",
       "      <th>bmi</th>\n",
       "      <td>546.297373</td>\n",
       "      <td>550.842404</td>\n",
       "      <td>280.715875</td>\n",
       "      <td>59.524146</td>\n",
       "      <td>6.899915</td>\n",
       "      <td>556.213504</td>\n",
       "      <td>443.702165</td>\n",
       "      <td>0.000000</td>\n",
       "      <td>0.000000</td>\n",
       "      <td>225.053239</td>\n",
       "      <td>3.512046</td>\n",
       "      <td>0.000000</td>\n",
       "      <td>0.000000</td>\n",
       "    </tr>\n",
       "    <tr>\n",
       "      <th>bp</th>\n",
       "      <td>388.400773</td>\n",
       "      <td>379.130249</td>\n",
       "      <td>195.213699</td>\n",
       "      <td>43.421500</td>\n",
       "      <td>5.085125</td>\n",
       "      <td>380.662908</td>\n",
       "      <td>51.603401</td>\n",
       "      <td>0.000000</td>\n",
       "      <td>0.000000</td>\n",
       "      <td>158.163986</td>\n",
       "      <td>2.328663</td>\n",
       "      <td>0.000000</td>\n",
       "      <td>0.000000</td>\n",
       "    </tr>\n",
       "    <tr>\n",
       "      <th>s1</th>\n",
       "      <td>-901.953387</td>\n",
       "      <td>-404.246797</td>\n",
       "      <td>-2.229433</td>\n",
       "      <td>13.875065</td>\n",
       "      <td>2.069660</td>\n",
       "      <td>-468.724831</td>\n",
       "      <td>0.000000</td>\n",
       "      <td>0.000000</td>\n",
       "      <td>0.000000</td>\n",
       "      <td>9.020973</td>\n",
       "      <td>0.380194</td>\n",
       "      <td>0.000000</td>\n",
       "      <td>0.000000</td>\n",
       "    </tr>\n",
       "    <tr>\n",
       "      <th>s2</th>\n",
       "      <td>506.761149</td>\n",
       "      <td>123.024271</td>\n",
       "      <td>-17.541159</td>\n",
       "      <td>10.865253</td>\n",
       "      <td>1.743747</td>\n",
       "      <td>166.982612</td>\n",
       "      <td>0.000000</td>\n",
       "      <td>0.000000</td>\n",
       "      <td>0.000000</td>\n",
       "      <td>-1.762251</td>\n",
       "      <td>0.168337</td>\n",
       "      <td>0.000000</td>\n",
       "      <td>0.000000</td>\n",
       "    </tr>\n",
       "    <tr>\n",
       "      <th>s3</th>\n",
       "      <td>121.148459</td>\n",
       "      <td>-99.046718</td>\n",
       "      <td>-148.688994</td>\n",
       "      <td>-37.495849</td>\n",
       "      <td>-4.508876</td>\n",
       "      <td>-60.228572</td>\n",
       "      <td>-0.000000</td>\n",
       "      <td>-0.000000</td>\n",
       "      <td>-0.000000</td>\n",
       "      <td>-124.240088</td>\n",
       "      <td>-1.955958</td>\n",
       "      <td>-0.000000</td>\n",
       "      <td>-0.000000</td>\n",
       "    </tr>\n",
       "    <tr>\n",
       "      <th>s4</th>\n",
       "      <td>288.029325</td>\n",
       "      <td>215.029206</td>\n",
       "      <td>120.467093</td>\n",
       "      <td>38.728531</td>\n",
       "      <td>4.902421</td>\n",
       "      <td>230.910912</td>\n",
       "      <td>0.000000</td>\n",
       "      <td>0.000000</td>\n",
       "      <td>0.000000</td>\n",
       "      <td>106.910019</td>\n",
       "      <td>2.228128</td>\n",
       "      <td>0.000000</td>\n",
       "      <td>0.000000</td>\n",
       "    </tr>\n",
       "    <tr>\n",
       "      <th>s5</th>\n",
       "      <td>659.271338</td>\n",
       "      <td>463.843218</td>\n",
       "      <td>198.614859</td>\n",
       "      <td>49.224775</td>\n",
       "      <td>5.926497</td>\n",
       "      <td>492.632152</td>\n",
       "      <td>201.967127</td>\n",
       "      <td>0.000000</td>\n",
       "      <td>0.000000</td>\n",
       "      <td>165.006394</td>\n",
       "      <td>2.887428</td>\n",
       "      <td>0.000000</td>\n",
       "      <td>0.000000</td>\n",
       "    </tr>\n",
       "    <tr>\n",
       "      <th>s6</th>\n",
       "      <td>41.375369</td>\n",
       "      <td>50.350550</td>\n",
       "      <td>106.934534</td>\n",
       "      <td>34.737979</td>\n",
       "      <td>4.328698</td>\n",
       "      <td>43.968404</td>\n",
       "      <td>0.000000</td>\n",
       "      <td>0.000000</td>\n",
       "      <td>0.000000</td>\n",
       "      <td>97.213373</td>\n",
       "      <td>1.846225</td>\n",
       "      <td>0.000000</td>\n",
       "      <td>0.000000</td>\n",
       "    </tr>\n",
       "    <tr>\n",
       "      <th>score</th>\n",
       "      <td>0.477292</td>\n",
       "      <td>0.477674</td>\n",
       "      <td>0.423345</td>\n",
       "      <td>0.151566</td>\n",
       "      <td>0.014770</td>\n",
       "      <td>0.478716</td>\n",
       "      <td>0.361899</td>\n",
       "      <td>-0.006405</td>\n",
       "      <td>-0.006405</td>\n",
       "      <td>0.384438</td>\n",
       "      <td>0.003107</td>\n",
       "      <td>-0.006405</td>\n",
       "      <td>-0.006405</td>\n",
       "    </tr>\n",
       "  </tbody>\n",
       "</table>\n",
       "</div>"
      ],
      "text/plain": [
       "               LR  Ridge(alpha=0.01)  Ridge(alpha=1.00)  Ridge(alpha=10.00)  \\\n",
       "age     29.250346          34.164603          45.053767           16.230871   \n",
       "sex   -261.707681        -254.044322         -71.947551           -2.961374   \n",
       "bmi    546.297373         550.842404         280.715875           59.524146   \n",
       "bp     388.400773         379.130249         195.213699           43.421500   \n",
       "s1    -901.953387        -404.246797          -2.229433           13.875065   \n",
       "s2     506.761149         123.024271         -17.541159           10.865253   \n",
       "s3     121.148459         -99.046718        -148.688994          -37.495849   \n",
       "s4     288.029325         215.029206         120.467093           38.728531   \n",
       "s5     659.271338         463.843218         198.614859           49.224775   \n",
       "s6      41.375369          50.350550         106.934534           34.737979   \n",
       "score    0.477292           0.477674           0.423345            0.151566   \n",
       "\n",
       "       Ridge(alpha=100.00)  Lasso(alpha=0.01)  Lasso(alpha=1.00)  \\\n",
       "age               2.072848          28.243511           0.000000   \n",
       "sex              -0.003808        -250.820194          -0.000000   \n",
       "bmi               6.899915         556.213504         443.702165   \n",
       "bp                5.085125         380.662908          51.603401   \n",
       "s1                2.069660        -468.724831           0.000000   \n",
       "s2                1.743747         166.982612           0.000000   \n",
       "s3               -4.508876         -60.228572          -0.000000   \n",
       "s4                4.902421         230.910912           0.000000   \n",
       "s5                5.926497         492.632152         201.967127   \n",
       "s6                4.328698          43.968404           0.000000   \n",
       "score             0.014770           0.478716           0.361899   \n",
       "\n",
       "       Lasso(alpha=10.00)  Lasso(alpha=100.00)  ElasticNet(alpha=0.01)  \\\n",
       "age              0.000000             0.000000               41.417724   \n",
       "sex              0.000000             0.000000              -45.935113   \n",
       "bmi              0.000000             0.000000              225.053239   \n",
       "bp               0.000000             0.000000              158.163986   \n",
       "s1               0.000000             0.000000                9.020973   \n",
       "s2               0.000000             0.000000               -1.762251   \n",
       "s3              -0.000000            -0.000000             -124.240088   \n",
       "s4               0.000000             0.000000              106.910019   \n",
       "s5               0.000000             0.000000              165.006394   \n",
       "s6               0.000000             0.000000               97.213373   \n",
       "score           -0.006405            -0.006405                0.384438   \n",
       "\n",
       "       ElasticNet(alpha=1.00)  ElasticNet(alpha=10.00)  \\\n",
       "age                  0.367567                 0.000000   \n",
       "sex                  0.000000                 0.000000   \n",
       "bmi                  3.512046                 0.000000   \n",
       "bp                   2.328663                 0.000000   \n",
       "s1                   0.380194                 0.000000   \n",
       "s2                   0.168337                 0.000000   \n",
       "s3                  -1.955958                -0.000000   \n",
       "s4                   2.228128                 0.000000   \n",
       "s5                   2.887428                 0.000000   \n",
       "s6                   1.846225                 0.000000   \n",
       "score                0.003107                -0.006405   \n",
       "\n",
       "       ElasticNet(alpha=100.00)  \n",
       "age                    0.000000  \n",
       "sex                    0.000000  \n",
       "bmi                    0.000000  \n",
       "bp                     0.000000  \n",
       "s1                     0.000000  \n",
       "s2                     0.000000  \n",
       "s3                    -0.000000  \n",
       "s4                     0.000000  \n",
       "s5                     0.000000  \n",
       "s6                     0.000000  \n",
       "score                 -0.006405  "
      ]
     },
     "execution_count": 40,
     "metadata": {},
     "output_type": "execute_result"
    }
   ],
   "source": [
    "alpha_list=[0.01, 1, 10, 100]\n",
    "for alpha in alpha_list:\n",
    "    model_ElasticNet = ElasticNet(alpha=alpha)\n",
    "    model_ElasticNet.fit(X_train,y_train)\n",
    "    \n",
    "    y_pred = model_ElasticNet.predict(X_test)\n",
    "    r2= r2_score(y_test,y_pred)\n",
    "    \n",
    "    col_name = 'ElasticNet(alpha={:.2f})'.format(alpha)\n",
    "    comp_df[col_name] = np.append(model_ElasticNet.coef_, r2)\n",
    "    \n",
    "comp_df"
   ]
  },
  {
   "cell_type": "code",
   "execution_count": 41,
   "metadata": {},
   "outputs": [
    {
     "data": {
      "text/html": [
       "<div>\n",
       "<style scoped>\n",
       "    .dataframe tbody tr th:only-of-type {\n",
       "        vertical-align: middle;\n",
       "    }\n",
       "\n",
       "    .dataframe tbody tr th {\n",
       "        vertical-align: top;\n",
       "    }\n",
       "\n",
       "    .dataframe thead th {\n",
       "        text-align: right;\n",
       "    }\n",
       "</style>\n",
       "<table border=\"1\" class=\"dataframe\">\n",
       "  <thead>\n",
       "    <tr style=\"text-align: right;\">\n",
       "      <th></th>\n",
       "      <th>age</th>\n",
       "      <th>sex</th>\n",
       "      <th>bmi</th>\n",
       "      <th>bp</th>\n",
       "      <th>s1</th>\n",
       "      <th>s2</th>\n",
       "      <th>s3</th>\n",
       "      <th>s4</th>\n",
       "      <th>s5</th>\n",
       "      <th>s6</th>\n",
       "      <th>score</th>\n",
       "    </tr>\n",
       "  </thead>\n",
       "  <tbody>\n",
       "    <tr>\n",
       "      <th>LR</th>\n",
       "      <td>29.250346</td>\n",
       "      <td>-261.707681</td>\n",
       "      <td>546.297373</td>\n",
       "      <td>388.400773</td>\n",
       "      <td>-901.953387</td>\n",
       "      <td>506.761149</td>\n",
       "      <td>121.148459</td>\n",
       "      <td>288.029325</td>\n",
       "      <td>659.271338</td>\n",
       "      <td>41.375369</td>\n",
       "      <td>0.477292</td>\n",
       "    </tr>\n",
       "    <tr>\n",
       "      <th>Ridge(alpha=0.01)</th>\n",
       "      <td>34.164603</td>\n",
       "      <td>-254.044322</td>\n",
       "      <td>550.842404</td>\n",
       "      <td>379.130249</td>\n",
       "      <td>-404.246797</td>\n",
       "      <td>123.024271</td>\n",
       "      <td>-99.046718</td>\n",
       "      <td>215.029206</td>\n",
       "      <td>463.843218</td>\n",
       "      <td>50.350550</td>\n",
       "      <td>0.477674</td>\n",
       "    </tr>\n",
       "    <tr>\n",
       "      <th>Ridge(alpha=1.00)</th>\n",
       "      <td>45.053767</td>\n",
       "      <td>-71.947551</td>\n",
       "      <td>280.715875</td>\n",
       "      <td>195.213699</td>\n",
       "      <td>-2.229433</td>\n",
       "      <td>-17.541159</td>\n",
       "      <td>-148.688994</td>\n",
       "      <td>120.467093</td>\n",
       "      <td>198.614859</td>\n",
       "      <td>106.934534</td>\n",
       "      <td>0.423345</td>\n",
       "    </tr>\n",
       "    <tr>\n",
       "      <th>Ridge(alpha=10.00)</th>\n",
       "      <td>16.230871</td>\n",
       "      <td>-2.961374</td>\n",
       "      <td>59.524146</td>\n",
       "      <td>43.421500</td>\n",
       "      <td>13.875065</td>\n",
       "      <td>10.865253</td>\n",
       "      <td>-37.495849</td>\n",
       "      <td>38.728531</td>\n",
       "      <td>49.224775</td>\n",
       "      <td>34.737979</td>\n",
       "      <td>0.151566</td>\n",
       "    </tr>\n",
       "    <tr>\n",
       "      <th>Ridge(alpha=100.00)</th>\n",
       "      <td>2.072848</td>\n",
       "      <td>-0.003808</td>\n",
       "      <td>6.899915</td>\n",
       "      <td>5.085125</td>\n",
       "      <td>2.069660</td>\n",
       "      <td>1.743747</td>\n",
       "      <td>-4.508876</td>\n",
       "      <td>4.902421</td>\n",
       "      <td>5.926497</td>\n",
       "      <td>4.328698</td>\n",
       "      <td>0.014770</td>\n",
       "    </tr>\n",
       "    <tr>\n",
       "      <th>Lasso(alpha=0.01)</th>\n",
       "      <td>28.243511</td>\n",
       "      <td>-250.820194</td>\n",
       "      <td>556.213504</td>\n",
       "      <td>380.662908</td>\n",
       "      <td>-468.724831</td>\n",
       "      <td>166.982612</td>\n",
       "      <td>-60.228572</td>\n",
       "      <td>230.910912</td>\n",
       "      <td>492.632152</td>\n",
       "      <td>43.968404</td>\n",
       "      <td>0.478716</td>\n",
       "    </tr>\n",
       "    <tr>\n",
       "      <th>Lasso(alpha=1.00)</th>\n",
       "      <td>0.000000</td>\n",
       "      <td>-0.000000</td>\n",
       "      <td>443.702165</td>\n",
       "      <td>51.603401</td>\n",
       "      <td>0.000000</td>\n",
       "      <td>0.000000</td>\n",
       "      <td>-0.000000</td>\n",
       "      <td>0.000000</td>\n",
       "      <td>201.967127</td>\n",
       "      <td>0.000000</td>\n",
       "      <td>0.361899</td>\n",
       "    </tr>\n",
       "    <tr>\n",
       "      <th>Lasso(alpha=10.00)</th>\n",
       "      <td>0.000000</td>\n",
       "      <td>0.000000</td>\n",
       "      <td>0.000000</td>\n",
       "      <td>0.000000</td>\n",
       "      <td>0.000000</td>\n",
       "      <td>0.000000</td>\n",
       "      <td>-0.000000</td>\n",
       "      <td>0.000000</td>\n",
       "      <td>0.000000</td>\n",
       "      <td>0.000000</td>\n",
       "      <td>-0.006405</td>\n",
       "    </tr>\n",
       "    <tr>\n",
       "      <th>Lasso(alpha=100.00)</th>\n",
       "      <td>0.000000</td>\n",
       "      <td>0.000000</td>\n",
       "      <td>0.000000</td>\n",
       "      <td>0.000000</td>\n",
       "      <td>0.000000</td>\n",
       "      <td>0.000000</td>\n",
       "      <td>-0.000000</td>\n",
       "      <td>0.000000</td>\n",
       "      <td>0.000000</td>\n",
       "      <td>0.000000</td>\n",
       "      <td>-0.006405</td>\n",
       "    </tr>\n",
       "    <tr>\n",
       "      <th>ElasticNet(alpha=0.01)</th>\n",
       "      <td>41.417724</td>\n",
       "      <td>-45.935113</td>\n",
       "      <td>225.053239</td>\n",
       "      <td>158.163986</td>\n",
       "      <td>9.020973</td>\n",
       "      <td>-1.762251</td>\n",
       "      <td>-124.240088</td>\n",
       "      <td>106.910019</td>\n",
       "      <td>165.006394</td>\n",
       "      <td>97.213373</td>\n",
       "      <td>0.384438</td>\n",
       "    </tr>\n",
       "    <tr>\n",
       "      <th>ElasticNet(alpha=1.00)</th>\n",
       "      <td>0.367567</td>\n",
       "      <td>0.000000</td>\n",
       "      <td>3.512046</td>\n",
       "      <td>2.328663</td>\n",
       "      <td>0.380194</td>\n",
       "      <td>0.168337</td>\n",
       "      <td>-1.955958</td>\n",
       "      <td>2.228128</td>\n",
       "      <td>2.887428</td>\n",
       "      <td>1.846225</td>\n",
       "      <td>0.003107</td>\n",
       "    </tr>\n",
       "    <tr>\n",
       "      <th>ElasticNet(alpha=10.00)</th>\n",
       "      <td>0.000000</td>\n",
       "      <td>0.000000</td>\n",
       "      <td>0.000000</td>\n",
       "      <td>0.000000</td>\n",
       "      <td>0.000000</td>\n",
       "      <td>0.000000</td>\n",
       "      <td>-0.000000</td>\n",
       "      <td>0.000000</td>\n",
       "      <td>0.000000</td>\n",
       "      <td>0.000000</td>\n",
       "      <td>-0.006405</td>\n",
       "    </tr>\n",
       "    <tr>\n",
       "      <th>ElasticNet(alpha=100.00)</th>\n",
       "      <td>0.000000</td>\n",
       "      <td>0.000000</td>\n",
       "      <td>0.000000</td>\n",
       "      <td>0.000000</td>\n",
       "      <td>0.000000</td>\n",
       "      <td>0.000000</td>\n",
       "      <td>-0.000000</td>\n",
       "      <td>0.000000</td>\n",
       "      <td>0.000000</td>\n",
       "      <td>0.000000</td>\n",
       "      <td>-0.006405</td>\n",
       "    </tr>\n",
       "  </tbody>\n",
       "</table>\n",
       "</div>"
      ],
      "text/plain": [
       "                                age         sex         bmi          bp  \\\n",
       "LR                        29.250346 -261.707681  546.297373  388.400773   \n",
       "Ridge(alpha=0.01)         34.164603 -254.044322  550.842404  379.130249   \n",
       "Ridge(alpha=1.00)         45.053767  -71.947551  280.715875  195.213699   \n",
       "Ridge(alpha=10.00)        16.230871   -2.961374   59.524146   43.421500   \n",
       "Ridge(alpha=100.00)        2.072848   -0.003808    6.899915    5.085125   \n",
       "Lasso(alpha=0.01)         28.243511 -250.820194  556.213504  380.662908   \n",
       "Lasso(alpha=1.00)          0.000000   -0.000000  443.702165   51.603401   \n",
       "Lasso(alpha=10.00)         0.000000    0.000000    0.000000    0.000000   \n",
       "Lasso(alpha=100.00)        0.000000    0.000000    0.000000    0.000000   \n",
       "ElasticNet(alpha=0.01)    41.417724  -45.935113  225.053239  158.163986   \n",
       "ElasticNet(alpha=1.00)     0.367567    0.000000    3.512046    2.328663   \n",
       "ElasticNet(alpha=10.00)    0.000000    0.000000    0.000000    0.000000   \n",
       "ElasticNet(alpha=100.00)   0.000000    0.000000    0.000000    0.000000   \n",
       "\n",
       "                                  s1          s2          s3          s4  \\\n",
       "LR                       -901.953387  506.761149  121.148459  288.029325   \n",
       "Ridge(alpha=0.01)        -404.246797  123.024271  -99.046718  215.029206   \n",
       "Ridge(alpha=1.00)          -2.229433  -17.541159 -148.688994  120.467093   \n",
       "Ridge(alpha=10.00)         13.875065   10.865253  -37.495849   38.728531   \n",
       "Ridge(alpha=100.00)         2.069660    1.743747   -4.508876    4.902421   \n",
       "Lasso(alpha=0.01)        -468.724831  166.982612  -60.228572  230.910912   \n",
       "Lasso(alpha=1.00)           0.000000    0.000000   -0.000000    0.000000   \n",
       "Lasso(alpha=10.00)          0.000000    0.000000   -0.000000    0.000000   \n",
       "Lasso(alpha=100.00)         0.000000    0.000000   -0.000000    0.000000   \n",
       "ElasticNet(alpha=0.01)      9.020973   -1.762251 -124.240088  106.910019   \n",
       "ElasticNet(alpha=1.00)      0.380194    0.168337   -1.955958    2.228128   \n",
       "ElasticNet(alpha=10.00)     0.000000    0.000000   -0.000000    0.000000   \n",
       "ElasticNet(alpha=100.00)    0.000000    0.000000   -0.000000    0.000000   \n",
       "\n",
       "                                  s5          s6     score  \n",
       "LR                        659.271338   41.375369  0.477292  \n",
       "Ridge(alpha=0.01)         463.843218   50.350550  0.477674  \n",
       "Ridge(alpha=1.00)         198.614859  106.934534  0.423345  \n",
       "Ridge(alpha=10.00)         49.224775   34.737979  0.151566  \n",
       "Ridge(alpha=100.00)         5.926497    4.328698  0.014770  \n",
       "Lasso(alpha=0.01)         492.632152   43.968404  0.478716  \n",
       "Lasso(alpha=1.00)         201.967127    0.000000  0.361899  \n",
       "Lasso(alpha=10.00)          0.000000    0.000000 -0.006405  \n",
       "Lasso(alpha=100.00)         0.000000    0.000000 -0.006405  \n",
       "ElasticNet(alpha=0.01)    165.006394   97.213373  0.384438  \n",
       "ElasticNet(alpha=1.00)      2.887428    1.846225  0.003107  \n",
       "ElasticNet(alpha=10.00)     0.000000    0.000000 -0.006405  \n",
       "ElasticNet(alpha=100.00)    0.000000    0.000000 -0.006405  "
      ]
     },
     "execution_count": 41,
     "metadata": {},
     "output_type": "execute_result"
    }
   ],
   "source": [
    "comp_df.T"
   ]
  },
  {
   "cell_type": "markdown",
   "metadata": {},
   "source": [
    "### LassoCV() : k-폴드 교차 검증으로 최적의 Lasso 모델 하이퍼파라미터 alpha 찾기"
   ]
  },
  {
   "cell_type": "code",
   "execution_count": 44,
   "metadata": {},
   "outputs": [],
   "source": [
    "#LassoCV()에 필요한 매개변수 설정\n",
    "#0.01 ~ 9.91 까지 alpha_list  생성\n",
    "\n",
    "cv = 5\n",
    "max_iter = 5000\n",
    "alpha_list = np.arange(0.01, 10, 0.01)"
   ]
  },
  {
   "cell_type": "code",
   "execution_count": 43,
   "metadata": {},
   "outputs": [
    {
     "data": {
      "text/plain": [
       "array([0.01, 0.11, 0.21, 0.31, 0.41, 0.51, 0.61, 0.71, 0.81, 0.91, 1.01,\n",
       "       1.11, 1.21, 1.31, 1.41, 1.51, 1.61, 1.71, 1.81, 1.91, 2.01, 2.11,\n",
       "       2.21, 2.31, 2.41, 2.51, 2.61, 2.71, 2.81, 2.91, 3.01, 3.11, 3.21,\n",
       "       3.31, 3.41, 3.51, 3.61, 3.71, 3.81, 3.91, 4.01, 4.11, 4.21, 4.31,\n",
       "       4.41, 4.51, 4.61, 4.71, 4.81, 4.91, 5.01, 5.11, 5.21, 5.31, 5.41,\n",
       "       5.51, 5.61, 5.71, 5.81, 5.91, 6.01, 6.11, 6.21, 6.31, 6.41, 6.51,\n",
       "       6.61, 6.71, 6.81, 6.91, 7.01, 7.11, 7.21, 7.31, 7.41, 7.51, 7.61,\n",
       "       7.71, 7.81, 7.91, 8.01, 8.11, 8.21, 8.31, 8.41, 8.51, 8.61, 8.71,\n",
       "       8.81, 8.91, 9.01, 9.11, 9.21, 9.31, 9.41, 9.51, 9.61, 9.71, 9.81,\n",
       "       9.91])"
      ]
     },
     "execution_count": 43,
     "metadata": {},
     "output_type": "execute_result"
    }
   ],
   "source": [
    "alpha_list"
   ]
  },
  {
   "cell_type": "markdown",
   "metadata": {},
   "source": [
    "- 모델 학습"
   ]
  },
  {
   "cell_type": "code",
   "execution_count": 45,
   "metadata": {},
   "outputs": [
    {
     "data": {
      "text/plain": [
       "LassoCV(alphas=array([0.01, 0.02, 0.03, 0.04, 0.05, 0.06, 0.07, 0.08, 0.09, 0.1 , 0.11,\n",
       "       0.12, 0.13, 0.14, 0.15, 0.16, 0.17, 0.18, 0.19, 0.2 , 0.21, 0.22,\n",
       "       0.23, 0.24, 0.25, 0.26, 0.27, 0.28, 0.29, 0.3 , 0.31, 0.32, 0.33,\n",
       "       0.34, 0.35, 0.36, 0.37, 0.38, 0.39, 0.4 , 0.41, 0.42, 0.43, 0.44,\n",
       "       0.45, 0.46, 0.47, 0.48, 0.49, 0.5 , 0.51, 0.52, 0.53, 0.54, 0.55,\n",
       "       0.56, 0.57, 0.58, 0.59, 0.6 , 0.61, 0.62, 0.63, 0.64, 0.65, 0.66,\n",
       "       0.67...\n",
       "       9.36, 9.37, 9.38, 9.39, 9.4 , 9.41, 9.42, 9.43, 9.44, 9.45, 9.46,\n",
       "       9.47, 9.48, 9.49, 9.5 , 9.51, 9.52, 9.53, 9.54, 9.55, 9.56, 9.57,\n",
       "       9.58, 9.59, 9.6 , 9.61, 9.62, 9.63, 9.64, 9.65, 9.66, 9.67, 9.68,\n",
       "       9.69, 9.7 , 9.71, 9.72, 9.73, 9.74, 9.75, 9.76, 9.77, 9.78, 9.79,\n",
       "       9.8 , 9.81, 9.82, 9.83, 9.84, 9.85, 9.86, 9.87, 9.88, 9.89, 9.9 ,\n",
       "       9.91, 9.92, 9.93, 9.94, 9.95, 9.96, 9.97, 9.98, 9.99]),\n",
       "        cv=5, max_iter=5000, n_jobs=-1, random_state=1)"
      ]
     },
     "execution_count": 45,
     "metadata": {},
     "output_type": "execute_result"
    }
   ],
   "source": [
    "model_Lasso = LassoCV(alphas=alpha_list, cv=cv, n_jobs=-1, random_state=1, max_iter=max_iter)\n",
    "model_Lasso.fit(X_train, y_train)"
   ]
  },
  {
   "cell_type": "code",
   "execution_count": 46,
   "metadata": {},
   "outputs": [
    {
     "data": {
      "text/plain": [
       "0.01"
      ]
     },
     "execution_count": 46,
     "metadata": {},
     "output_type": "execute_result"
    }
   ],
   "source": [
    "model_Lasso.alpha_"
   ]
  },
  {
   "cell_type": "code",
   "execution_count": null,
   "metadata": {},
   "outputs": [],
   "source": []
  }
 ],
 "metadata": {
  "kernelspec": {
   "display_name": "Python 3",
   "language": "python",
   "name": "python3"
  },
  "language_info": {
   "codemirror_mode": {
    "name": "ipython",
    "version": 3
   },
   "file_extension": ".py",
   "mimetype": "text/x-python",
   "name": "python",
   "nbconvert_exporter": "python",
   "pygments_lexer": "ipython3",
   "version": "3.8.10"
  }
 },
 "nbformat": 4,
 "nbformat_minor": 4
}
